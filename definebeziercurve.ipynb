{
 "cells": [
  {
   "cell_type": "code",
   "execution_count": null,
   "id": "d0e066c9",
   "metadata": {},
   "outputs": [],
   "source": [
    "def bezier_curve(control_points, t):\n",
    "    n = len(control_points) - 1\n",
    "    result = np.zeros_like(control_points[0], dtype=float)\n",
    "    for i in range(n + 1):\n",
    "        result += control_points[i] * comb(n, i) * t**i * (1 - t)**(n - i)\n",
    "    return result\n",
    "\n",
    "def comb(n, k):\n",
    "    return np.math.factorial(n) / (np.math.factorial(k) * np.math.factorial(n - k))\n",
    "\n",
    "def perpendicular_line(p1, p2):\n",
    "    midpoint = (p1 + p2) / 2\n",
    "    direction = p2 - p1\n",
    "    perp_direction = np.array([-direction[1], direction[0]])\n",
    "    perp_direction /= np.linalg.norm(perp_direction)\n",
    "    return midpoint, perp_direction\n",
    "\n",
    "# Define the control points for the Bezier curve\n",
    "control_points = np.array([[0,0], \n",
    "                           [1,3], \n",
    "                           [2,-2], \n",
    "                           [3,0]], dtype=float)\n",
    "\n",
    "# Generate points along the Bezier curve\n",
    "t_values = np.linspace(0, 1, 100)\n",
    "curve_points = np.array([bezier_curve(control_points, t) for t in t_values])\n",
    "\n",
    "plt.plot(curve_points[:, 0], curve_points[:, 1])\n",
    "plt.scatter(control_points[:, 0], control_points[:, 1], color='red')\n",
    "\n",
    "# Connect the control points with lines\n",
    "for i in range(len(control_points) - 1):\n",
    "    plt.plot([control_points[i, 0], control_points[i+1, 0]], [control_points[i, 1], control_points[i+1, 1]], color='gray', linestyle='--')\n",
    "\n",
    "# Connect the first and last control points with a solid line\n",
    "plt.plot([control_points[0, 0], control_points[-1, 0]], [control_points[0, 1], control_points[-1, 1]], color='black')\n",
    "\n",
    "# Draw perpendicular lines from each control point to the connecting line\n",
    "first_point = control_points[0]\n",
    "last_point = control_points[-1]\n",
    "connecting_line = last_point - first_point\n",
    "for point in control_points[1:-1]:\n",
    "    midpoint, perp_direction = perpendicular_line(first_point, last_point)\n",
    "    projection = np.dot(point - first_point, connecting_line) / np.dot(connecting_line, connecting_line) * connecting_line\n",
    "    perpendicular = projection + first_point\n",
    "    plt.plot([point[0], perpendicular[0]], [point[1], perpendicular[1]], color='green', linestyle='--')\n",
    "\n",
    "plt.xlabel('X')\n",
    "plt.ylabel('Y')\n",
    "plt.axis('equal')\n",
    "plt.grid(True)\n",
    "plt.show()\n"
   ]
  }
 ],
 "metadata": {
  "kernelspec": {
   "display_name": "Python 3 (ipykernel)",
   "language": "python",
   "name": "python3"
  },
  "language_info": {
   "codemirror_mode": {
    "name": "ipython",
    "version": 3
   },
   "file_extension": ".py",
   "mimetype": "text/x-python",
   "name": "python",
   "nbconvert_exporter": "python",
   "pygments_lexer": "ipython3",
   "version": "3.10.9"
  }
 },
 "nbformat": 4,
 "nbformat_minor": 5
}
